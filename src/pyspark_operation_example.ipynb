{
 "cells": [
  {
   "cell_type": "code",
   "execution_count": 1,
   "metadata": {},
   "outputs": [],
   "source": [
    "from pyspark import SparkContext, SparkConf"
   ]
  },
  {
   "cell_type": "code",
   "execution_count": 2,
   "metadata": {},
   "outputs": [],
   "source": [
    "conf = SparkConf().setAppName(\"appName\").setMaster(\"local\")\n",
    "sc = SparkContext(conf=conf)"
   ]
  },
  {
   "cell_type": "markdown",
   "metadata": {},
   "source": [
    "1. Read the iris data(../data/iris.csv) and show first ten lines."
   ]
  },
  {
   "cell_type": "code",
   "execution_count": 3,
   "metadata": {},
   "outputs": [
    {
     "data": {
      "text/plain": [
       "['5.1,3.5,1.4,0.2,setosa',\n",
       " '4.9,3,1.4,0.2,setosa',\n",
       " '4.7,3.2,1.3,0.2,setosa',\n",
       " '4.6,3.1,1.5,0.2,setosa',\n",
       " '5,3.6,1.4,0.2,setosa',\n",
       " '5.4,3.9,1.7,0.4,setosa',\n",
       " '4.6,3.4,1.4,0.3,setosa',\n",
       " '5,3.4,1.5,0.2,setosa',\n",
       " '4.4,2.9,1.4,0.2,setosa',\n",
       " '4.9,3.1,1.5,0.1,setosa']"
      ]
     },
     "execution_count": 3,
     "metadata": {},
     "output_type": "execute_result"
    }
   ],
   "source": [
    "iris = sc.textFile(\"../data/iris.csv\")\n",
    "iris.take(10)    "
   ]
  },
  {
   "cell_type": "markdown",
   "metadata": {},
   "source": [
    "2. From iris data, select the lines with condition that the last column is 'setosa' and show the first ten lines."
   ]
  },
  {
   "cell_type": "code",
   "execution_count": 4,
   "metadata": {},
   "outputs": [
    {
     "data": {
      "text/plain": [
       "['5.1,3.5,1.4,0.2,setosa',\n",
       " '4.9,3,1.4,0.2,setosa',\n",
       " '4.7,3.2,1.3,0.2,setosa',\n",
       " '4.6,3.1,1.5,0.2,setosa',\n",
       " '5,3.6,1.4,0.2,setosa',\n",
       " '5.4,3.9,1.7,0.4,setosa',\n",
       " '4.6,3.4,1.4,0.3,setosa',\n",
       " '5,3.4,1.5,0.2,setosa',\n",
       " '4.4,2.9,1.4,0.2,setosa',\n",
       " '4.9,3.1,1.5,0.1,setosa']"
      ]
     },
     "execution_count": 4,
     "metadata": {},
     "output_type": "execute_result"
    }
   ],
   "source": [
    "iris.filter(lambda line: 'setosa' == line.split(',')[-1]).take(10)"
   ]
  },
  {
   "cell_type": "markdown",
   "metadata": {},
   "source": [
    "3. From iris data, sample 10 lines with replacement."
   ]
  },
  {
   "cell_type": "code",
   "execution_count": 5,
   "metadata": {
    "scrolled": false
   },
   "outputs": [
    {
     "data": {
      "text/plain": [
       "['6.5,2.8,4.6,1.5,versicolor',\n",
       " '6.8,3.2,5.9,2.3,virginica',\n",
       " '6.5,3,5.5,1.8,virginica',\n",
       " '5.2,3.4,1.4,0.2,setosa',\n",
       " '5.1,3.7,1.5,0.4,setosa',\n",
       " '6,2.7,5.1,1.6,versicolor',\n",
       " '5.8,2.8,5.1,2.4,virginica',\n",
       " '6.4,3.2,4.5,1.5,versicolor',\n",
       " '5.1,2.5,3,1.1,versicolor',\n",
       " '6.1,2.8,4,1.3,versicolor']"
      ]
     },
     "execution_count": 5,
     "metadata": {},
     "output_type": "execute_result"
    }
   ],
   "source": [
    "# without transformation\n",
    "iris.takeSample(True, 10)"
   ]
  },
  {
   "cell_type": "markdown",
   "metadata": {},
   "source": [
    "4. From iris data, sample lines each with 1/10 probability with condition that the species are 'setosa' and 'versicolor'. And union those."
   ]
  },
  {
   "cell_type": "code",
   "execution_count": 6,
   "metadata": {},
   "outputs": [
    {
     "data": {
      "text/plain": [
       "['4.9,3.1,1.5,0.1,setosa',\n",
       " '5.4,3.9,1.3,0.4,setosa',\n",
       " '5.4,3.4,1.5,0.4,setosa',\n",
       " '4.9,2.4,3.3,1,versicolor',\n",
       " '6.1,2.9,4.7,1.4,versicolor',\n",
       " '6.1,2.8,4.7,1.2,versicolor',\n",
       " '6.8,2.8,4.8,1.4,versicolor',\n",
       " '5.8,2.7,3.9,1.2,versicolor']"
      ]
     },
     "execution_count": 6,
     "metadata": {},
     "output_type": "execute_result"
    }
   ],
   "source": [
    "setosa = iris.filter(lambda line: 'setosa' in line).sample(True, 1/10)\n",
    "versicolor = iris.filter(lambda line: 'versicolor' in line).sample(True, 1/10)\n",
    "\n",
    "setosa.union(versicolor).collect()"
   ]
  },
  {
   "cell_type": "markdown",
   "metadata": {},
   "source": [
    "5. From iris data, make key-data with condition that the key is the last column and the value is the first column."
   ]
  },
  {
   "cell_type": "code",
   "execution_count": 7,
   "metadata": {},
   "outputs": [],
   "source": [
    "key_value_iris = iris.map(lambda line: (line.split(',')[-1], float(line.split(',')[0])))"
   ]
  },
  {
   "cell_type": "markdown",
   "metadata": {},
   "source": [
    "6. To the key-value data, sum-up based on the key(species)."
   ]
  },
  {
   "cell_type": "code",
   "execution_count": 8,
   "metadata": {},
   "outputs": [
    {
     "data": {
      "text/plain": [
       "[('setosa', 250.29999999999998),\n",
       " ('versicolor', 296.8),\n",
       " ('virginica', 329.3999999999999)]"
      ]
     },
     "execution_count": 8,
     "metadata": {},
     "output_type": "execute_result"
    }
   ],
   "source": [
    "key_value_iris.reduceByKey(lambda a,b:a+b).collect()"
   ]
  },
  {
   "cell_type": "markdown",
   "metadata": {},
   "source": [
    "7. To the key-value data, sort with descending by key and show the first 10 lines."
   ]
  },
  {
   "cell_type": "code",
   "execution_count": 9,
   "metadata": {},
   "outputs": [
    {
     "data": {
      "text/plain": [
       "[('virginica', 6.3),\n",
       " ('virginica', 5.8),\n",
       " ('virginica', 7.1),\n",
       " ('virginica', 6.3),\n",
       " ('virginica', 6.5),\n",
       " ('virginica', 7.6),\n",
       " ('virginica', 4.9),\n",
       " ('virginica', 7.3),\n",
       " ('virginica', 6.7),\n",
       " ('virginica', 7.2)]"
      ]
     },
     "execution_count": 9,
     "metadata": {},
     "output_type": "execute_result"
    }
   ],
   "source": [
    "key_value_iris.sortByKey(False).take(10)"
   ]
  },
  {
   "cell_type": "code",
   "execution_count": null,
   "metadata": {},
   "outputs": [],
   "source": []
  },
  {
   "cell_type": "code",
   "execution_count": null,
   "metadata": {},
   "outputs": [],
   "source": []
  }
 ],
 "metadata": {
  "kernelspec": {
   "display_name": "Python 3",
   "language": "python",
   "name": "python3"
  },
  "language_info": {
   "codemirror_mode": {
    "name": "ipython",
    "version": 3
   },
   "file_extension": ".py",
   "mimetype": "text/x-python",
   "name": "python",
   "nbconvert_exporter": "python",
   "pygments_lexer": "ipython3",
   "version": "3.6.4"
  }
 },
 "nbformat": 4,
 "nbformat_minor": 2
}
